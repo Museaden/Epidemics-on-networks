{
 "cells": [
  {
   "cell_type": "code",
   "execution_count": 1,
   "metadata": {
    "collapsed": false,
    "scrolled": true
   },
   "outputs": [
    {
     "name": "stdout",
     "output_type": "stream",
     "text": [
      "Populating the interactive namespace from numpy and matplotlib\n"
     ]
    }
   ],
   "source": [
    "%pylab inline\n",
    "import numpy as np\n",
    "import scipy.linalg as lg\n",
    "import networkx as nx\n",
    "import matplotlib.pyplot as plt\n",
    "import warnings\n",
    "warnings.filterwarnings(\"ignore\")\n",
    " \n"
   ]
  },
  {
   "cell_type": "code",
   "execution_count": 2,
   "metadata": {
    "collapsed": false
   },
   "outputs": [],
   "source": [
    "G=nx.read_weighted_edgelist('Software Digital.txt')\n",
    "A=nx.to_numpy_matrix(G)\n",
    "G=nx.from_numpy_matrix(A)\n"
   ]
  },
  {
   "cell_type": "code",
   "execution_count": 3,
   "metadata": {
    "collapsed": true
   },
   "outputs": [],
   "source": [
    "def epi_step(A, p, n, gamma, beta):\n",
    "    q = np.zeros(n)\n",
    "    for i in range(n):\n",
    "        z = 1\n",
    "        for j in range(n):\n",
    "            z = z*(1-beta*A[i,j]*p[j])\n",
    "        q[i] = (1-p[i])*z+gamma*p[i]*z\n",
    "    p = 1-q\n",
    "    return p"
   ]
  },
  {
   "cell_type": "code",
   "execution_count": 329,
   "metadata": {
    "collapsed": true
   },
   "outputs": [],
   "source": [
    "def trial(A, gamma, beta, m, init):\n",
    "    t = np.zeros(m)\n",
    "    n = len(A)\n",
    "    p=init #vector of zeroes\n",
    "    for i in range(m):#loop updates values of t and p\n",
    "        t[i] = sum(p)\n",
    "        p = epi_step(A, p, n, gamma, beta)\n",
    "    return t,p"
   ]
  },
  {
   "cell_type": "code",
   "execution_count": 330,
   "metadata": {
    "collapsed": false
   },
   "outputs": [],
   "source": [
    "m=40\n",
    "gamma=.24\n",
    "beta=.75"
   ]
  },
  {
   "cell_type": "code",
   "execution_count": 331,
   "metadata": {
    "collapsed": false
   },
   "outputs": [],
   "source": [
    "# Random initial infectivity (with mean 1)\n",
    "\n",
    "init = np.random.rand(len(A))\n",
    "init =init/sum(init)\n",
    "#init[20]=1\n",
    "t3,p1 = trial(A,gamma,beta,m,init)\n",
    "#print(t3,p1)"
   ]
  },
  {
   "cell_type": "code",
   "execution_count": 332,
   "metadata": {
    "collapsed": false
   },
   "outputs": [],
   "source": [
    "#Remove four nodes with randomly from graph\n",
    "B = A\n",
    "B[:,3]=0\n",
    "B[3,:]=0\n",
    "B[:,30]=0\n",
    "B[30,:]=0\n",
    "B[:,21]=0\n",
    "B[21,:]=0\n",
    "B[:,41]=0\n",
    "B[41,:]=0\n",
    "init = np.random.rand(len(A))\n",
    "init =init/sum(init)\n",
    "t6,p1 = trial(B,gamma,beta,m,init)"
   ]
  },
  {
   "cell_type": "code",
   "execution_count": 7,
   "metadata": {
    "collapsed": false
   },
   "outputs": [
    {
     "name": "stdout",
     "output_type": "stream",
     "text": [
      "[(0.2377914260002877, 94), (0.26686914321671973, 105), (0.335668207280111, 48), (0.36200035558432475, 144)]\n"
     ]
    }
   ],
   "source": [
    "# Find 4 nodes with highest betwenness centrality\n",
    "G=nx.read_weighted_edgelist('Software Digital.txt')\n",
    "A=nx.to_numpy_matrix(G)\n",
    "G=nx.from_numpy_matrix(A)\n",
    "n=len(A)\n",
    "dic=nx.betweenness_centrality(G)\n",
    "a = [(dic[key], key) for key in dic]\n",
    "b=(sorted(a,reverse=False)[n-4:n])\n",
    "print(b)"
   ]
  },
  {
   "cell_type": "code",
   "execution_count": 334,
   "metadata": {
    "collapsed": false
   },
   "outputs": [],
   "source": [
    "#Remove four nodes with highest betwenness centrality from graph\n",
    "B = A\n",
    "B[:,48]=0\n",
    "B[48,:]=0\n",
    "B[:,105]=0\n",
    "B[105,:]=0\n",
    "B[:,94]=0\n",
    "B[94,:]=0\n",
    "B[:,117]=0\n",
    "B[117,:]=0\n",
    "init = np.random.rand(len(A))\n",
    "init =init/sum(init)\n",
    "t5,p1 = trial(B,gamma,beta,m,init)"
   ]
  },
  {
   "cell_type": "code",
   "execution_count": 335,
   "metadata": {
    "collapsed": false
   },
   "outputs": [
    {
     "name": "stdout",
     "output_type": "stream",
     "text": [
      "(144, 51, 129, 93)\n"
     ]
    }
   ],
   "source": [
    "# Find 4 nodes with highest degree centrality\n",
    "G=nx.read_weighted_edgelist('Software Digital.txt')\n",
    "A=nx.to_numpy_matrix(G)\n",
    "G=nx.from_numpy_matrix(A)\n",
    "n=len(A)\n",
    "dic=nx.degree_centrality(G)\n",
    "a = [(dic[key], key) for key in dic]\n",
    "b=(sorted(a,reverse=False)[n-5:n])\n",
    "print(b[3][1],b[2][1],b[1][1],b[0][1])"
   ]
  },
  {
   "cell_type": "code",
   "execution_count": 336,
   "metadata": {
    "collapsed": false
   },
   "outputs": [],
   "source": [
    "#Remove four nodes with highest degree centrality from graph\n",
    "B = A\n",
    "B[:,144]=0\n",
    "B[144,:]=0\n",
    "B[:,51]=0\n",
    "B[51,:]=0\n",
    "B[:,129]=0\n",
    "B[129,:]=0\n",
    "B[:,93]=0\n",
    "B[93,:]=0\n",
    "init = np.random.rand(len(A))\n",
    "init =init/sum(init)\n",
    "t7,p1 = trial(B,gamma,beta,m,init)"
   ]
  },
  {
   "cell_type": "code",
   "execution_count": 337,
   "metadata": {
    "collapsed": false
   },
   "outputs": [
    {
     "name": "stdout",
     "output_type": "stream",
     "text": [
      "(94, 144, 51, 129)\n"
     ]
    }
   ],
   "source": [
    "# Find 4 nodes with highest eigenvector centrality\n",
    "G=nx.read_weighted_edgelist('Software Digital.txt')\n",
    "A=nx.to_numpy_matrix(G)\n",
    "G=nx.from_numpy_matrix(A)\n",
    "n=len(A)\n",
    "dic=nx.eigenvector_centrality(G)\n",
    "a = [(dic[key], key) for key in dic]\n",
    "b=(sorted(a,reverse=False)[n-4:n])\n",
    "print(b[3][1],b[2][1],b[1][1],b[0][1])"
   ]
  },
  {
   "cell_type": "code",
   "execution_count": 338,
   "metadata": {
    "collapsed": true
   },
   "outputs": [],
   "source": [
    "#Remove four nodes with highest eigenvector centrality from graph\n",
    "B = A\n",
    "B[:,94]=0\n",
    "B[94,:]=0\n",
    "B[:,144]=0\n",
    "B[144,:]=0\n",
    "B[:,51]=0\n",
    "B[51,:]=0\n",
    "B[:,129]=0\n",
    "B[129,:]=0\n",
    "init = np.random.rand(len(A))\n",
    "init =init/sum(init)\n",
    "t8,p1 = trial(B,gamma,beta,m,init)"
   ]
  },
  {
   "cell_type": "code",
   "execution_count": 339,
   "metadata": {
    "collapsed": false
   },
   "outputs": [
    {
     "data": {
      "image/png": "[encoded data removed]",
      "text/plain": [
       "<matplotlib.figure.Figure object at 0x7f27bb7187d0>"
      ]
     },
     "metadata": {},
     "output_type": "display_data"
    }
   ],
   "source": [
    "plt.clf()\n",
    "plt.plot(range(m),t3)\n",
    "plt.plot(range(m),t8)\n",
    "plt.plot(range(m),t5)\n",
    "plt.plot(range(m),t7)\n",
    "plt.plot(range(m),t6)\n",
    "plt.xlabel('Time')\n",
    "plt.ylabel('Expected number of infected nodes')\n",
    "plt.legend(['none','eigenvector','betwenness','degree','randomly'])\n",
    "#plt.title('beta=.45 and gamma=.65 ')\n",
    "plt.grid()\n",
    "plt.savefig('fig48.png')"
   ]
  },
  {
   "cell_type": "code",
   "execution_count": null,
   "metadata": {
    "collapsed": true
   },
   "outputs": [],
   "source": []
  }
 ],
 "metadata": {
  "kernelspec": {
   "display_name": "SageMath 7.4",
   "language": "",
   "name": "sagemath"
  },
  "language_info": {
   "codemirror_mode": {
    "name": "ipython",
    "version": 2
   },
   "file_extension": ".py",
   "mimetype": "text/x-python",
   "name": "python",
   "nbconvert_exporter": "python",
   "pygments_lexer": "ipython2",
   "version": "2.7.13"
  }
 },
 "nbformat": 4,
 "nbformat_minor": 1
}
